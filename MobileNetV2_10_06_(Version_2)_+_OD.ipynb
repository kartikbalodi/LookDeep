{
 "cells": [
  {
   "cell_type": "markdown",
   "metadata": {
    "colab_type": "text",
    "id": "view-in-github"
   },
   "source": [
    "<a href=\"https://colab.research.google.com/github/rohansanjay/LookDeep/blob/master/MobileNetV2_10_06_(Version_2)_%2B_OD.ipynb\" target=\"_parent\"><img src=\"https://colab.research.google.com/assets/colab-badge.svg\" alt=\"Open In Colab\"/></a>"
   ]
  },
  {
   "cell_type": "code",
   "execution_count": null,
   "metadata": {
    "colab": {
     "base_uri": "https://localhost:8080/",
     "height": 34
    },
    "id": "T24-L46TCc1S",
    "outputId": "47ab5137-9576-4e10-cf38-35cf679b6f5d"
   },
   "outputs": [
    {
     "name": "stdout",
     "output_type": "stream",
     "text": [
      "Mounted at /content/drive\n"
     ]
    }
   ],
   "source": [
    "from google.colab import drive\n",
    "drive.mount('/content/drive')"
   ]
  },
  {
   "cell_type": "code",
   "execution_count": null,
   "metadata": {
    "cellView": "both",
    "colab": {
     "base_uri": "https://localhost:8080/",
     "height": 51
    },
    "id": "pNYgWo2dCmwv",
    "outputId": "04f61c0a-d0b1-4ef7-c1ea-b0f4531e96e7"
   },
   "outputs": [
    {
     "name": "stdout",
     "output_type": "stream",
     "text": [
      "2.3.0\n",
      "The following GPU devices are available: \n"
     ]
    }
   ],
   "source": [
    "# For running inference on the TF-Hub module.\n",
    "import tensorflow as tf\n",
    "\n",
    "import tensorflow_hub as hub\n",
    "from tensorflow.keras import datasets, layers, models\n",
    "\n",
    "# For downloading the image.\n",
    "import matplotlib.pyplot as plt\n",
    "import tempfile\n",
    "from six.moves.urllib.request import urlopen\n",
    "from six import BytesIO\n",
    "\n",
    "# For drawing onto the image.\n",
    "import numpy as np\n",
    "from PIL import Image\n",
    "from PIL import ImageColor\n",
    "from PIL import ImageDraw\n",
    "from PIL import ImageFont\n",
    "from PIL import ImageOps\n",
    "\n",
    "# For measuring the inference time.\n",
    "import time\n",
    "\n",
    "# Print Tensorflow version\n",
    "print(tf.__version__)\n",
    "\n",
    "# Image imports\n",
    "from zipfile import ZipFile\n",
    "import matplotlib.pyplot as plt\n",
    "import pandas as pd\n",
    "\n",
    "# Check available GPU devices.\n",
    "print(\"The following GPU devices are available: %s\" % tf.test.gpu_device_name())\n",
    "\n",
    "tranch = 1\n",
    "labels_path = '/content/drive/My Drive/M499_F20_Data/tranch'+str(tranch)+'_labels.csv'\n",
    "pictures_path = '/content/drive/My Drive/M499_F20_Data/persons-posture-tranch'+str(tranch)+'.zip'\n",
    "\n",
    "labels = pd.read_csv(labels_path)\n",
    "zip_file = ZipFile(pictures_path)\n",
    "\n",
    "file_list = [obj.filename for obj in zip_file.infolist()]\n",
    "file_list_simple = [name.split('/')[-1] for name in file_list]"
   ]
  },
  {
   "cell_type": "code",
   "execution_count": null,
   "metadata": {
    "colab": {
     "base_uri": "https://localhost:8080/",
     "height": 221
    },
    "id": "ZXH_3pCNCtBG",
    "outputId": "2d89513b-bb6f-45d7-849e-39b619638f1c"
   },
   "outputs": [
    {
     "name": "stdout",
     "output_type": "stream",
     "text": [
      "16940 16922 16921\n"
     ]
    },
    {
     "data": {
      "text/html": [
       "<div>\n",
       "<style scoped>\n",
       "    .dataframe tbody tr th:only-of-type {\n",
       "        vertical-align: middle;\n",
       "    }\n",
       "\n",
       "    .dataframe tbody tr th {\n",
       "        vertical-align: top;\n",
       "    }\n",
       "\n",
       "    .dataframe thead th {\n",
       "        text-align: right;\n",
       "    }\n",
       "</style>\n",
       "<table border=\"1\" class=\"dataframe\">\n",
       "  <thead>\n",
       "    <tr style=\"text-align: right;\">\n",
       "      <th></th>\n",
       "      <th>file_path</th>\n",
       "      <th>file_name</th>\n",
       "      <th>how_many</th>\n",
       "      <th>primary_posture</th>\n",
       "      <th>primary_occluded</th>\n",
       "      <th>staff_patient_other</th>\n",
       "    </tr>\n",
       "  </thead>\n",
       "  <tbody>\n",
       "    <tr>\n",
       "      <th>0</th>\n",
       "      <td>home/tyler/git/darknet/data/persons/yolo/v4/e2...</td>\n",
       "      <td>e2_0209_cat-1_002.jpg</td>\n",
       "      <td>One</td>\n",
       "      <td>Sitting</td>\n",
       "      <td>No</td>\n",
       "      <td>Patient</td>\n",
       "    </tr>\n",
       "    <tr>\n",
       "      <th>1</th>\n",
       "      <td>home/tyler/git/darknet/data/persons/yolo/v4/SU...</td>\n",
       "      <td>SU-O-390_cat-1_000.png</td>\n",
       "      <td>Two</td>\n",
       "      <td>Sitting</td>\n",
       "      <td>No</td>\n",
       "      <td>Patient</td>\n",
       "    </tr>\n",
       "    <tr>\n",
       "      <th>2</th>\n",
       "      <td>home/tyler/git/darknet/data/persons/yolo/v4/SU...</td>\n",
       "      <td>SU-O-602_cat-1_005.jpg</td>\n",
       "      <td>One</td>\n",
       "      <td>Standing</td>\n",
       "      <td>Yes</td>\n",
       "      <td>Staff</td>\n",
       "    </tr>\n",
       "    <tr>\n",
       "      <th>3</th>\n",
       "      <td>home/tyler/git/darknet/data/persons/yolo/v4/SU...</td>\n",
       "      <td>SU-O-105_cat-1_011.png</td>\n",
       "      <td>Two</td>\n",
       "      <td>Unknown</td>\n",
       "      <td>Yes</td>\n",
       "      <td>NaN</td>\n",
       "    </tr>\n",
       "    <tr>\n",
       "      <th>4</th>\n",
       "      <td>home/tyler/git/darknet/data/persons/yolo/v4/SU...</td>\n",
       "      <td>SU-O-83_cat-1_004.png</td>\n",
       "      <td>None</td>\n",
       "      <td>NaN</td>\n",
       "      <td>NaN</td>\n",
       "      <td>NaN</td>\n",
       "    </tr>\n",
       "  </tbody>\n",
       "</table>\n",
       "</div>"
      ],
      "text/plain": [
       "                                           file_path  ... staff_patient_other\n",
       "0  home/tyler/git/darknet/data/persons/yolo/v4/e2...  ...             Patient\n",
       "1  home/tyler/git/darknet/data/persons/yolo/v4/SU...  ...             Patient\n",
       "2  home/tyler/git/darknet/data/persons/yolo/v4/SU...  ...               Staff\n",
       "3  home/tyler/git/darknet/data/persons/yolo/v4/SU...  ...                 NaN\n",
       "4  home/tyler/git/darknet/data/persons/yolo/v4/SU...  ...                 NaN\n",
       "\n",
       "[5 rows x 6 columns]"
      ]
     },
     "execution_count": 3,
     "metadata": {
      "tags": []
     },
     "output_type": "execute_result"
    }
   ],
   "source": [
    "names = pd.DataFrame({'file_path': file_list, 'file_name': file_list_simple})\n",
    "names.head();\n",
    "\n",
    "df = pd.merge(names, labels, on = 'file_name')\n",
    "print(len(names), len(labels), len(df))\n",
    "df.head()"
   ]
  },
  {
   "cell_type": "code",
   "execution_count": null,
   "metadata": {
    "colab": {
     "base_uri": "https://localhost:8080/",
     "height": 204
    },
    "id": "7Dpt-MXIDwY2",
    "outputId": "1dc7c2e6-cfbc-49cf-ae4a-df8a1a1a449a"
   },
   "outputs": [
    {
     "data": {
      "text/html": [
       "<div>\n",
       "<style scoped>\n",
       "    .dataframe tbody tr th:only-of-type {\n",
       "        vertical-align: middle;\n",
       "    }\n",
       "\n",
       "    .dataframe tbody tr th {\n",
       "        vertical-align: top;\n",
       "    }\n",
       "\n",
       "    .dataframe thead th {\n",
       "        text-align: right;\n",
       "    }\n",
       "</style>\n",
       "<table border=\"1\" class=\"dataframe\">\n",
       "  <thead>\n",
       "    <tr style=\"text-align: right;\">\n",
       "      <th></th>\n",
       "      <th>file_path</th>\n",
       "      <th>file_name</th>\n",
       "      <th>how_many</th>\n",
       "      <th>primary_posture</th>\n",
       "      <th>primary_occluded</th>\n",
       "      <th>staff_patient_other</th>\n",
       "      <th>primary_posture_n</th>\n",
       "    </tr>\n",
       "  </thead>\n",
       "  <tbody>\n",
       "    <tr>\n",
       "      <th>0</th>\n",
       "      <td>home/tyler/git/darknet/data/persons/yolo/v4/e2...</td>\n",
       "      <td>e2_0209_cat-1_002.jpg</td>\n",
       "      <td>One</td>\n",
       "      <td>Sitting</td>\n",
       "      <td>No</td>\n",
       "      <td>Patient</td>\n",
       "      <td>0</td>\n",
       "    </tr>\n",
       "    <tr>\n",
       "      <th>1</th>\n",
       "      <td>home/tyler/git/darknet/data/persons/yolo/v4/ma...</td>\n",
       "      <td>maxresdefault_cat-1_000.jpg</td>\n",
       "      <td>One</td>\n",
       "      <td>Standing</td>\n",
       "      <td>No</td>\n",
       "      <td>Staff</td>\n",
       "      <td>1</td>\n",
       "    </tr>\n",
       "    <tr>\n",
       "      <th>2</th>\n",
       "      <td>home/tyler/git/darknet/data/persons/yolo/v4/e2...</td>\n",
       "      <td>e2_0128_cat-1_003.jpg</td>\n",
       "      <td>One</td>\n",
       "      <td>Standing</td>\n",
       "      <td>No</td>\n",
       "      <td>Staff</td>\n",
       "      <td>1</td>\n",
       "    </tr>\n",
       "    <tr>\n",
       "      <th>3</th>\n",
       "      <td>home/tyler/git/darknet/data/persons/yolo/v4/30...</td>\n",
       "      <td>30bca933-c73d-4831-8a96-6e738a3a7490_cat-1_004...</td>\n",
       "      <td>One</td>\n",
       "      <td>Standing</td>\n",
       "      <td>No</td>\n",
       "      <td>Staff</td>\n",
       "      <td>1</td>\n",
       "    </tr>\n",
       "    <tr>\n",
       "      <th>4</th>\n",
       "      <td>home/tyler/git/darknet/data/persons/yolo/v4/5e...</td>\n",
       "      <td>5ea1a58e-e505-47dc-a0d1-410e671546fd_cat-1_001...</td>\n",
       "      <td>One</td>\n",
       "      <td>Standing</td>\n",
       "      <td>No</td>\n",
       "      <td>Staff</td>\n",
       "      <td>1</td>\n",
       "    </tr>\n",
       "  </tbody>\n",
       "</table>\n",
       "</div>"
      ],
      "text/plain": [
       "                                           file_path  ... primary_posture_n\n",
       "0  home/tyler/git/darknet/data/persons/yolo/v4/e2...  ...                 0\n",
       "1  home/tyler/git/darknet/data/persons/yolo/v4/ma...  ...                 1\n",
       "2  home/tyler/git/darknet/data/persons/yolo/v4/e2...  ...                 1\n",
       "3  home/tyler/git/darknet/data/persons/yolo/v4/30...  ...                 1\n",
       "4  home/tyler/git/darknet/data/persons/yolo/v4/5e...  ...                 1\n",
       "\n",
       "[5 rows x 7 columns]"
      ]
     },
     "execution_count": 4,
     "metadata": {
      "tags": []
     },
     "output_type": "execute_result"
    }
   ],
   "source": [
    "one_person = df[df['how_many'] == 'One']\n",
    "one_person = one_person.dropna(subset=['primary_posture'])\n",
    "one_person = one_person[one_person['primary_occluded'] == 'No']\n",
    "one_person = one_person[one_person['primary_posture'] != 'Unknown']\n",
    "one_person = one_person.reset_index(drop=True)\n",
    "categories = {'Sitting': 0, 'Standing': 1, 'Lying': 2}\n",
    "one_person['primary_posture_n'] = one_person['primary_posture'].map(categories)\n",
    "one_person.head()"
   ]
  },
  {
   "cell_type": "code",
   "execution_count": null,
   "metadata": {
    "colab": {
     "base_uri": "https://localhost:8080/",
     "height": 34
    },
    "id": "qvNc2bmHFPID",
    "outputId": "22d89cfd-86e1-4cdb-aaff-bbbccdcbf62f"
   },
   "outputs": [
    {
     "data": {
      "text/plain": [
       "(6700, 7)"
      ]
     },
     "execution_count": 5,
     "metadata": {
      "tags": []
     },
     "output_type": "execute_result"
    }
   ],
   "source": [
    "one_person.shape"
   ]
  },
  {
   "cell_type": "markdown",
   "metadata": {
    "id": "Di4PlKZhkeyH"
   },
   "source": [
    "OD pipeline"
   ]
  },
  {
   "cell_type": "code",
   "execution_count": null,
   "metadata": {
    "id": "NhO-fttTkjvO"
   },
   "outputs": [],
   "source": [
    "def display_image(image):\n",
    "  fig = plt.figure(figsize=(20, 15))\n",
    "  plt.grid(False)\n",
    "  plt.imshow(image)\n",
    "\n",
    "\n",
    "# def download_and_resize_image(filepath, new_width=256, new_height=256, display=False):\n",
    "def download_and_resize_image(filepath, display=False):\n",
    "  _, filename = tempfile.mkstemp(suffix=\".jpg\")\n",
    "  pil_image = Image.open(zip_file.open(filepath))\n",
    "  #pil_image = ImageOps.fit(pil_image, (new_width, new_height), Image.ANTIALIAS)\n",
    "  pil_image_rgb = pil_image.convert(\"RGB\")\n",
    "  pil_image_rgb.save(filename, format=\"JPEG\", quality=90)\n",
    "  print(\"Image downloaded to %s.\" % filename)\n",
    "  if display:\n",
    "    display_image(pil_image)\n",
    "  return filename\n",
    "\n",
    "\n",
    "def draw_bounding_box_on_image(image,\n",
    "                               ymin,\n",
    "                               xmin,\n",
    "                               ymax,\n",
    "                               xmax,\n",
    "                               color,\n",
    "                               font,\n",
    "                               thickness=1,\n",
    "                               display_str_list=()):\n",
    "  \"\"\"Adds a bounding box to an image.\"\"\"\n",
    "  draw = ImageDraw.Draw(image)\n",
    "  im_width, im_height = image.size\n",
    "  (left, right, top, bottom) = (xmin * im_width, xmax * im_width,\n",
    "                                ymin * im_height, ymax * im_height)\n",
    "  draw.line([(left, top), (left, bottom), (right, bottom), (right, top),\n",
    "             (left, top)],\n",
    "            width=thickness,\n",
    "            fill=color)\n",
    "\n",
    "  # If the total height of the display strings added to the top of the bounding\n",
    "  # box exceeds the top of the image, stack the strings below the bounding box\n",
    "  # instead of above.\n",
    "  display_str_heights = [font.getsize(ds)[1] for ds in display_str_list]\n",
    "  # Each display_str has a top and bottom margin of 0.05x.\n",
    "  total_display_str_height = (1 + 2 * 0.05) * sum(display_str_heights)\n",
    "\n",
    "  if top > total_display_str_height:\n",
    "    text_bottom = top\n",
    "  else:\n",
    "    text_bottom = top + total_display_str_height\n",
    "  # Reverse list and print from bottom to top.\n",
    "  for display_str in display_str_list[::-1]:\n",
    "    text_width, text_height = font.getsize(display_str)\n",
    "    margin = np.ceil(0.05 * text_height)\n",
    "    draw.rectangle([(left, text_bottom - text_height - 2 * margin),\n",
    "                    (left + text_width, text_bottom)],\n",
    "                   fill=color)\n",
    "    draw.text((left + margin, text_bottom - text_height - margin),\n",
    "              display_str,\n",
    "              fill=\"black\",\n",
    "              font=font)\n",
    "    text_bottom -= text_height - 2 * margin\n",
    "\n",
    "def crop_image(image,\n",
    "                ymin,\n",
    "                xmin,\n",
    "                ymax,\n",
    "                xmax,\n",
    "                color,\n",
    "                font,\n",
    "                thickness=1,\n",
    "                display_str_list=()):\n",
    "  \"\"\"Crop image around bounding\"\"\"\n",
    "\n",
    "  im_width, im_height = image.size\n",
    "  #print(im_width, im_height)\n",
    "  \n",
    "  cropped = image.crop((xmin * im_width, ymin * im_height, xmax * im_width, ymax * im_height))\n",
    "\n",
    "  return cropped\n",
    "\n",
    "\n",
    "def draw_boxes(image, boxes, class_names, scores, max_boxes=5, min_score=0.1):\n",
    "  \"\"\"Overlay labeled boxes on an image with formatted scores and label names.\"\"\"\n",
    "  colors = list(ImageColor.colormap.values())\n",
    "\n",
    "  try:\n",
    "    font = ImageFont.truetype(\"/usr/share/fonts/truetype/liberation/LiberationSansNarrow-Regular.ttf\",\n",
    "                              25)\n",
    "  except IOError:\n",
    "    print(\"Font not found, using default font.\")\n",
    "    font = ImageFont.load_default()\n",
    "\n",
    "  ymin, xmin, ymax, xmax = tuple(boxes)\n",
    "  display_str = \"{}: {}%\".format(class_names.decode(\"ascii\"),\n",
    "                                  int(100 * scores))\n",
    "  print(display_str)\n",
    "  color = colors[hash(class_names) % len(colors)]\n",
    "  image_pil = Image.fromarray(np.uint8(image)).convert(\"RGB\")\n",
    "  \n",
    "  # draw_bounding_box_on_image(\n",
    "  #     image_pil,\n",
    "  #     ymin,\n",
    "  #     xmin,\n",
    "  #     ymax,\n",
    "  #     xmax,\n",
    "  #     color,\n",
    "  #     font,\n",
    "  #     display_str_list=[display_str])\n",
    "  \n",
    "  crop = crop_image(\n",
    "      image_pil,\n",
    "      ymin,\n",
    "      xmin,\n",
    "      ymax,\n",
    "      xmax,\n",
    "      color,\n",
    "      font,\n",
    "      display_str_list=[display_str])\n",
    "  \n",
    "  crop = np.array(crop)\n",
    "      \n",
    "  return crop\n",
    "\n",
    "def load_img(path):\n",
    "  img = tf.io.read_file(path)\n",
    "  img = tf.image.decode_jpeg(img, channels=3)\n",
    "  return img\n",
    "\n",
    "def run_detector(detector, path):\n",
    "  img = load_img(path)\n",
    "\n",
    "  converted_img  = tf.image.convert_image_dtype(img, tf.float32)[tf.newaxis, ...]\n",
    "  start_time = time.time()\n",
    "  result = detector(converted_img)\n",
    "  end_time = time.time()\n",
    "\n",
    "  result = {key:value.numpy() for key,value in result.items()}\n",
    "\n",
    "\n",
    "  b = bytes('Person', 'utf-8')\n",
    "\n",
    "  ind = np.where(result['detection_class_entities'] == b)\n",
    "\n",
    "  if len(ind[0]) == 0:\n",
    "    return img.numpy()\n",
    "\n",
    "  ind = ind[0][0]\n",
    "\n",
    "  image_with_boxes = draw_boxes(\n",
    "      img.numpy(), result[\"detection_boxes\"][ind],\n",
    "      result[\"detection_class_entities\"][ind], result[\"detection_scores\"][ind])\n",
    "  \n",
    "  return image_with_boxes"
   ]
  },
  {
   "cell_type": "code",
   "execution_count": null,
   "metadata": {
    "colab": {
     "base_uri": "https://localhost:8080/",
     "height": 51
    },
    "id": "PiORr7gvrj-A",
    "outputId": "8f878f75-4467-4905-8550-6802ed537378"
   },
   "outputs": [
    {
     "name": "stdout",
     "output_type": "stream",
     "text": [
      "INFO:tensorflow:Saver not created because there are no variables in the graph to restore\n"
     ]
    },
    {
     "name": "stderr",
     "output_type": "stream",
     "text": [
      "INFO:tensorflow:Saver not created because there are no variables in the graph to restore\n"
     ]
    }
   ],
   "source": [
    "module_handle = \"https://tfhub.dev/google/faster_rcnn/openimages_v4/inception_resnet_v2/1\" #@param [\"https://tfhub.dev/google/openimages_v4/ssd/mobilenet_v2/1\", \"https://tfhub.dev/google/faster_rcnn/openimages_v4/inception_resnet_v2/1\"]\n",
    "\n",
    "detector = hub.load(module_handle).signatures['default']"
   ]
  },
  {
   "cell_type": "code",
   "execution_count": null,
   "metadata": {
    "id": "pgJY9iDeksWB"
   },
   "outputs": [],
   "source": [
    "# IMPORTANT\n",
    "# num = np.random.randint(0,len(one_person))\n",
    "# downloaded_image_path = download_and_resize_image(one_person.iloc[num].file_path, True)"
   ]
  },
  {
   "cell_type": "code",
   "execution_count": null,
   "metadata": {
    "id": "957BS-ndlQPo"
   },
   "outputs": [],
   "source": []
  },
  {
   "cell_type": "markdown",
   "metadata": {
    "id": "xosAvhGYkhqo"
   },
   "source": [
    "Model"
   ]
  },
  {
   "cell_type": "code",
   "execution_count": null,
   "metadata": {
    "colab": {
     "base_uri": "https://localhost:8080/",
     "height": 1000
    },
    "id": "wKx_5IrnDq5z",
    "outputId": "8c4c9d92-2691-4bbf-b768-57e0e19a1336"
   },
   "outputs": [
    {
     "name": "stdout",
     "output_type": "stream",
     "text": [
      "Image downloaded to /tmp/tmpe3yzdd_m.jpg.\n",
      "Person: 14%\n",
      "Image downloaded to /tmp/tmpwq_evx_s.jpg.\n",
      "Person: 39%\n",
      "Image downloaded to /tmp/tmprviopag8.jpg.\n",
      "Person: 22%\n",
      "Image downloaded to /tmp/tmpz__5s336.jpg.\n",
      "Person: 19%\n",
      "Image downloaded to /tmp/tmph7vo0y7x.jpg.\n",
      "Person: 11%\n",
      "Image downloaded to /tmp/tmprurdxecn.jpg.\n",
      "Person: 18%\n",
      "Image downloaded to /tmp/tmpchoissnk.jpg.\n",
      "Person: 51%\n",
      "Image downloaded to /tmp/tmpmiuwiqld.jpg.\n",
      "Person: 21%\n",
      "Image downloaded to /tmp/tmpbqruuaan.jpg.\n",
      "Person: 39%\n",
      "Image downloaded to /tmp/tmpsnu9kys1.jpg.\n",
      "Person: 45%\n",
      "Image downloaded to /tmp/tmpdo70y_2t.jpg.\n",
      "Person: 30%\n",
      "Image downloaded to /tmp/tmp9iyi0si2.jpg.\n",
      "Person: 10%\n",
      "Image downloaded to /tmp/tmp59x93ql2.jpg.\n",
      "Person: 75%\n",
      "Image downloaded to /tmp/tmpzykx5dvy.jpg.\n",
      "Person: 30%\n",
      "Image downloaded to /tmp/tmp51no9jtf.jpg.\n",
      "Person: 59%\n",
      "Image downloaded to /tmp/tmp1izdtt7l.jpg.\n",
      "Person: 22%\n",
      "Image downloaded to /tmp/tmp0rrg3647.jpg.\n",
      "Person: 28%\n",
      "Image downloaded to /tmp/tmpdun4pmr_.jpg.\n",
      "Person: 37%\n",
      "Image downloaded to /tmp/tmpkb8zhwvo.jpg.\n",
      "Person: 28%\n",
      "Image downloaded to /tmp/tmpxqz38kbl.jpg.\n",
      "Person: 26%\n",
      "Image downloaded to /tmp/tmpacjpcc63.jpg.\n",
      "Person: 15%\n",
      "Image downloaded to /tmp/tmpmdlk5bw0.jpg.\n",
      "Person: 66%\n",
      "Image downloaded to /tmp/tmp09s5j277.jpg.\n",
      "Person: 15%\n",
      "Image downloaded to /tmp/tmpknvawyvj.jpg.\n",
      "Person: 37%\n",
      "Image downloaded to /tmp/tmp0xytwqko.jpg.\n",
      "Person: 59%\n",
      "Image downloaded to /tmp/tmpd0l46vm0.jpg.\n",
      "Person: 12%\n",
      "Image downloaded to /tmp/tmpsgwl7z4k.jpg.\n",
      "Person: 52%\n",
      "Image downloaded to /tmp/tmpw63ohqmg.jpg.\n",
      "Person: 53%\n",
      "Image downloaded to /tmp/tmp3yhl5dq_.jpg.\n",
      "Person: 24%\n",
      "Image downloaded to /tmp/tmprzr7ww46.jpg.\n",
      "Person: 31%\n",
      "Image downloaded to /tmp/tmp71spype9.jpg.\n",
      "Person: 38%\n",
      "Image downloaded to /tmp/tmp3mnzh5k2.jpg.\n",
      "Person: 38%\n",
      "Image downloaded to /tmp/tmpqvzcqvxi.jpg.\n",
      "Person: 57%\n",
      "Image downloaded to /tmp/tmp790whnpe.jpg.\n",
      "Person: 13%\n",
      "Image downloaded to /tmp/tmpfo0x4cjt.jpg.\n",
      "Person: 58%\n",
      "Image downloaded to /tmp/tmpxxc1480b.jpg.\n",
      "Person: 27%\n",
      "Image downloaded to /tmp/tmps88ho654.jpg.\n",
      "Person: 39%\n",
      "Image downloaded to /tmp/tmpkjrq6mls.jpg.\n",
      "Person: 52%\n",
      "Image downloaded to /tmp/tmp7ptg_yez.jpg.\n",
      "Person: 5%\n",
      "Image downloaded to /tmp/tmpjxydwxe3.jpg.\n",
      "Person: 49%\n",
      "Image downloaded to /tmp/tmpf2rz3036.jpg.\n",
      "Person: 43%\n",
      "Image downloaded to /tmp/tmphctaxujh.jpg.\n",
      "Person: 55%\n",
      "Image downloaded to /tmp/tmpbf13y6xl.jpg.\n",
      "Person: 22%\n",
      "Image downloaded to /tmp/tmpde9m_ioe.jpg.\n",
      "Person: 45%\n",
      "Image downloaded to /tmp/tmpkmngivha.jpg.\n",
      "Person: 29%\n",
      "Image downloaded to /tmp/tmp71r4xdik.jpg.\n",
      "Person: 30%\n",
      "Image downloaded to /tmp/tmpcochoa_7.jpg.\n",
      "Person: 39%\n",
      "Image downloaded to /tmp/tmph9ubnopc.jpg.\n",
      "Person: 47%\n",
      "Image downloaded to /tmp/tmpm3hzef67.jpg.\n",
      "Person: 14%\n",
      "Image downloaded to /tmp/tmpkh33ejae.jpg.\n",
      "Person: 21%\n",
      "Image downloaded to /tmp/tmpvkoshck_.jpg.\n",
      "Person: 51%\n",
      "Image downloaded to /tmp/tmpy3g3o_xr.jpg.\n",
      "Person: 25%\n",
      "Image downloaded to /tmp/tmpar94v4pd.jpg.\n",
      "Person: 35%\n",
      "Image downloaded to /tmp/tmpt5r24ri8.jpg.\n",
      "Person: 26%\n",
      "Image downloaded to /tmp/tmpf2lyge2l.jpg.\n",
      "Person: 32%\n",
      "Image downloaded to /tmp/tmpb5sdpnlc.jpg.\n",
      "Person: 25%\n",
      "Image downloaded to /tmp/tmppqs7d2qi.jpg.\n",
      "Person: 69%\n",
      "Image downloaded to /tmp/tmp745ol1n6.jpg.\n",
      "Person: 14%\n",
      "Image downloaded to /tmp/tmp3qn_rx0w.jpg.\n",
      "Person: 55%\n",
      "Image downloaded to /tmp/tmpb1ombjvs.jpg.\n",
      "Person: 69%\n",
      "Image downloaded to /tmp/tmpiqo36jqj.jpg.\n",
      "Person: 32%\n",
      "Image downloaded to /tmp/tmp7x5agpeq.jpg.\n",
      "Person: 73%\n",
      "Image downloaded to /tmp/tmpvuaf_rds.jpg.\n",
      "Person: 38%\n",
      "Image downloaded to /tmp/tmp2h0gwchx.jpg.\n",
      "Person: 49%\n",
      "Image downloaded to /tmp/tmp_a2tzzp6.jpg.\n",
      "Person: 32%\n",
      "Image downloaded to /tmp/tmpkd9f97tq.jpg.\n",
      "Person: 39%\n",
      "Image downloaded to /tmp/tmpryt3aesd.jpg.\n",
      "Person: 56%\n",
      "Image downloaded to /tmp/tmp12rhp3dn.jpg.\n",
      "Person: 12%\n",
      "Image downloaded to /tmp/tmpc38iqfbg.jpg.\n",
      "Person: 37%\n",
      "Image downloaded to /tmp/tmp07akzwb9.jpg.\n",
      "Person: 60%\n",
      "Image downloaded to /tmp/tmpmim4puc9.jpg.\n",
      "Person: 23%\n",
      "Image downloaded to /tmp/tmpelte0qua.jpg.\n",
      "Person: 20%\n",
      "Image downloaded to /tmp/tmpl8aokzlh.jpg.\n",
      "Person: 23%\n",
      "Image downloaded to /tmp/tmpsa1eh6ni.jpg.\n",
      "Person: 36%\n",
      "Image downloaded to /tmp/tmpibjes66c.jpg.\n",
      "Person: 8%\n",
      "Image downloaded to /tmp/tmpmbl3iomm.jpg.\n",
      "Person: 16%\n",
      "Image downloaded to /tmp/tmpttqwfsxe.jpg.\n",
      "Person: 32%\n",
      "Image downloaded to /tmp/tmpme4ojo7x.jpg.\n",
      "Person: 22%\n",
      "Image downloaded to /tmp/tmp5fbq0bdu.jpg.\n",
      "Person: 39%\n",
      "Image downloaded to /tmp/tmph81lqob9.jpg.\n",
      "Person: 33%\n",
      "Image downloaded to /tmp/tmp2dgkax7o.jpg.\n",
      "Person: 6%\n",
      "Image downloaded to /tmp/tmp4277bcoh.jpg.\n",
      "Person: 23%\n",
      "Image downloaded to /tmp/tmpqts6s6qz.jpg.\n",
      "Person: 76%\n",
      "Image downloaded to /tmp/tmp402z96dk.jpg.\n",
      "Person: 20%\n",
      "Image downloaded to /tmp/tmp1z9cnpac.jpg.\n",
      "Person: 10%\n",
      "Image downloaded to /tmp/tmpk71gonee.jpg.\n",
      "Person: 59%\n",
      "Image downloaded to /tmp/tmpjdws2ehf.jpg.\n",
      "Person: 10%\n",
      "Image downloaded to /tmp/tmppetmu2jn.jpg.\n",
      "Person: 33%\n",
      "Image downloaded to /tmp/tmpaim6klmg.jpg.\n",
      "Person: 40%\n",
      "Image downloaded to /tmp/tmp7opd9772.jpg.\n",
      "Person: 14%\n",
      "Image downloaded to /tmp/tmpnf7j0cec.jpg.\n",
      "Person: 57%\n",
      "Image downloaded to /tmp/tmps7f4520k.jpg.\n",
      "Person: 42%\n",
      "Image downloaded to /tmp/tmpgvwwa_nu.jpg.\n",
      "Person: 12%\n",
      "Image downloaded to /tmp/tmpu3pf83v5.jpg.\n",
      "Person: 37%\n",
      "Image downloaded to /tmp/tmp7bhso7ql.jpg.\n",
      "Person: 40%\n",
      "Image downloaded to /tmp/tmpkcibp4w4.jpg.\n",
      "Person: 28%\n",
      "Image downloaded to /tmp/tmpbhaoe2jq.jpg.\n",
      "Person: 28%\n",
      "Image downloaded to /tmp/tmp20bqec_e.jpg.\n",
      "Person: 55%\n",
      "Image downloaded to /tmp/tmpsa6p9v3t.jpg.\n",
      "Person: 39%\n",
      "Image downloaded to /tmp/tmpqhzozczk.jpg.\n",
      "Person: 47%\n",
      "Image downloaded to /tmp/tmp6aju93f9.jpg.\n",
      "Person: 47%\n",
      "Image downloaded to /tmp/tmp4_nexe1e.jpg.\n",
      "Person: 15%\n",
      "Image downloaded to /tmp/tmpdjh2chc9.jpg.\n",
      "Person: 17%\n",
      "Image downloaded to /tmp/tmp6it8_9wd.jpg.\n",
      "Person: 40%\n",
      "Image downloaded to /tmp/tmpygjrvvog.jpg.\n",
      "Person: 68%\n",
      "Image downloaded to /tmp/tmpsypenlgy.jpg.\n",
      "Person: 57%\n",
      "Image downloaded to /tmp/tmpx00_tp7f.jpg.\n"
     ]
    },
    {
     "ename": "KeyboardInterrupt",
     "evalue": "ignored",
     "output_type": "error",
     "traceback": [
      "\u001b[0;31m---------------------------------------------------------------------------\u001b[0m",
      "\u001b[0;31mKeyboardInterrupt\u001b[0m                         Traceback (most recent call last)",
      "\u001b[0;32m<ipython-input-11-fb7f27ccb752>\u001b[0m in \u001b[0;36m<module>\u001b[0;34m()\u001b[0m\n\u001b[1;32m     13\u001b[0m \u001b[0;32mwhile\u001b[0m \u001b[0mtrain_num\u001b[0m \u001b[0;34m<\u001b[0m \u001b[0;36m500\u001b[0m\u001b[0;34m:\u001b[0m\u001b[0;34m\u001b[0m\u001b[0;34m\u001b[0m\u001b[0m\n\u001b[1;32m     14\u001b[0m   \u001b[0mdownloaded_image_path\u001b[0m \u001b[0;34m=\u001b[0m \u001b[0mdownload_and_resize_image\u001b[0m\u001b[0;34m(\u001b[0m\u001b[0mone_person\u001b[0m\u001b[0;34m.\u001b[0m\u001b[0miloc\u001b[0m\u001b[0;34m[\u001b[0m\u001b[0mi\u001b[0m\u001b[0;34m]\u001b[0m\u001b[0;34m.\u001b[0m\u001b[0mfile_path\u001b[0m\u001b[0;34m,\u001b[0m \u001b[0;32mFalse\u001b[0m\u001b[0;34m)\u001b[0m\u001b[0;34m\u001b[0m\u001b[0;34m\u001b[0m\u001b[0m\n\u001b[0;32m---> 15\u001b[0;31m   \u001b[0mcropped\u001b[0m \u001b[0;34m=\u001b[0m \u001b[0mrun_detector\u001b[0m\u001b[0;34m(\u001b[0m\u001b[0mdetector\u001b[0m\u001b[0;34m,\u001b[0m \u001b[0mdownloaded_image_path\u001b[0m\u001b[0;34m)\u001b[0m\u001b[0;34m\u001b[0m\u001b[0;34m\u001b[0m\u001b[0m\n\u001b[0m\u001b[1;32m     16\u001b[0m \u001b[0;34m\u001b[0m\u001b[0m\n\u001b[1;32m     17\u001b[0m   \u001b[0;31m# ratio check - skip the picture\u001b[0m\u001b[0;34m\u001b[0m\u001b[0;34m\u001b[0m\u001b[0;34m\u001b[0m\u001b[0m\n",
      "\u001b[0;32m<ipython-input-9-6cdc69f015a5>\u001b[0m in \u001b[0;36mrun_detector\u001b[0;34m(detector, path)\u001b[0m\n\u001b[1;32m    132\u001b[0m   \u001b[0mconverted_img\u001b[0m  \u001b[0;34m=\u001b[0m \u001b[0mtf\u001b[0m\u001b[0;34m.\u001b[0m\u001b[0mimage\u001b[0m\u001b[0;34m.\u001b[0m\u001b[0mconvert_image_dtype\u001b[0m\u001b[0;34m(\u001b[0m\u001b[0mimg\u001b[0m\u001b[0;34m,\u001b[0m \u001b[0mtf\u001b[0m\u001b[0;34m.\u001b[0m\u001b[0mfloat32\u001b[0m\u001b[0;34m)\u001b[0m\u001b[0;34m[\u001b[0m\u001b[0mtf\u001b[0m\u001b[0;34m.\u001b[0m\u001b[0mnewaxis\u001b[0m\u001b[0;34m,\u001b[0m \u001b[0;34m...\u001b[0m\u001b[0;34m]\u001b[0m\u001b[0;34m\u001b[0m\u001b[0;34m\u001b[0m\u001b[0m\n\u001b[1;32m    133\u001b[0m   \u001b[0mstart_time\u001b[0m \u001b[0;34m=\u001b[0m \u001b[0mtime\u001b[0m\u001b[0;34m.\u001b[0m\u001b[0mtime\u001b[0m\u001b[0;34m(\u001b[0m\u001b[0;34m)\u001b[0m\u001b[0;34m\u001b[0m\u001b[0;34m\u001b[0m\u001b[0m\n\u001b[0;32m--> 134\u001b[0;31m   \u001b[0mresult\u001b[0m \u001b[0;34m=\u001b[0m \u001b[0mdetector\u001b[0m\u001b[0;34m(\u001b[0m\u001b[0mconverted_img\u001b[0m\u001b[0;34m)\u001b[0m\u001b[0;34m\u001b[0m\u001b[0;34m\u001b[0m\u001b[0m\n\u001b[0m\u001b[1;32m    135\u001b[0m   \u001b[0mend_time\u001b[0m \u001b[0;34m=\u001b[0m \u001b[0mtime\u001b[0m\u001b[0;34m.\u001b[0m\u001b[0mtime\u001b[0m\u001b[0;34m(\u001b[0m\u001b[0;34m)\u001b[0m\u001b[0;34m\u001b[0m\u001b[0;34m\u001b[0m\u001b[0m\n\u001b[1;32m    136\u001b[0m \u001b[0;34m\u001b[0m\u001b[0m\n",
      "\u001b[0;32m/usr/local/lib/python3.6/dist-packages/tensorflow/python/eager/function.py\u001b[0m in \u001b[0;36m__call__\u001b[0;34m(self, *args, **kwargs)\u001b[0m\n\u001b[1;32m   1653\u001b[0m       \u001b[0mTypeError\u001b[0m\u001b[0;34m:\u001b[0m \u001b[0mIf\u001b[0m \u001b[0mthe\u001b[0m \u001b[0marguments\u001b[0m \u001b[0mdo\u001b[0m \u001b[0;32mnot\u001b[0m \u001b[0mmatch\u001b[0m \u001b[0mthe\u001b[0m \u001b[0mfunction\u001b[0m\u001b[0;31m'\u001b[0m\u001b[0ms\u001b[0m \u001b[0msignature\u001b[0m\u001b[0;34m.\u001b[0m\u001b[0;34m\u001b[0m\u001b[0;34m\u001b[0m\u001b[0m\n\u001b[1;32m   1654\u001b[0m     \"\"\"\n\u001b[0;32m-> 1655\u001b[0;31m     \u001b[0;32mreturn\u001b[0m \u001b[0mself\u001b[0m\u001b[0;34m.\u001b[0m\u001b[0m_call_impl\u001b[0m\u001b[0;34m(\u001b[0m\u001b[0margs\u001b[0m\u001b[0;34m,\u001b[0m \u001b[0mkwargs\u001b[0m\u001b[0;34m)\u001b[0m\u001b[0;34m\u001b[0m\u001b[0;34m\u001b[0m\u001b[0m\n\u001b[0m\u001b[1;32m   1656\u001b[0m \u001b[0;34m\u001b[0m\u001b[0m\n\u001b[1;32m   1657\u001b[0m   \u001b[0;32mdef\u001b[0m \u001b[0m_call_impl\u001b[0m\u001b[0;34m(\u001b[0m\u001b[0mself\u001b[0m\u001b[0;34m,\u001b[0m \u001b[0margs\u001b[0m\u001b[0;34m,\u001b[0m \u001b[0mkwargs\u001b[0m\u001b[0;34m,\u001b[0m \u001b[0mcancellation_manager\u001b[0m\u001b[0;34m=\u001b[0m\u001b[0;32mNone\u001b[0m\u001b[0;34m)\u001b[0m\u001b[0;34m:\u001b[0m\u001b[0;34m\u001b[0m\u001b[0;34m\u001b[0m\u001b[0m\n",
      "\u001b[0;32m/usr/local/lib/python3.6/dist-packages/tensorflow/python/eager/wrap_function.py\u001b[0m in \u001b[0;36m_call_impl\u001b[0;34m(self, args, kwargs, cancellation_manager)\u001b[0m\n\u001b[1;32m    245\u001b[0m     \u001b[0;32melse\u001b[0m\u001b[0;34m:\u001b[0m\u001b[0;34m\u001b[0m\u001b[0;34m\u001b[0m\u001b[0m\n\u001b[1;32m    246\u001b[0m       return super(WrappedFunction, self)._call_impl(\n\u001b[0;32m--> 247\u001b[0;31m           args, kwargs, cancellation_manager)\n\u001b[0m\u001b[1;32m    248\u001b[0m \u001b[0;34m\u001b[0m\u001b[0m\n\u001b[1;32m    249\u001b[0m   \u001b[0;32mdef\u001b[0m \u001b[0mprune\u001b[0m\u001b[0;34m(\u001b[0m\u001b[0mself\u001b[0m\u001b[0;34m,\u001b[0m \u001b[0mfeeds\u001b[0m\u001b[0;34m,\u001b[0m \u001b[0mfetches\u001b[0m\u001b[0;34m,\u001b[0m \u001b[0mname\u001b[0m\u001b[0;34m=\u001b[0m\u001b[0;32mNone\u001b[0m\u001b[0;34m,\u001b[0m \u001b[0minput_signature\u001b[0m\u001b[0;34m=\u001b[0m\u001b[0;32mNone\u001b[0m\u001b[0;34m)\u001b[0m\u001b[0;34m:\u001b[0m\u001b[0;34m\u001b[0m\u001b[0;34m\u001b[0m\u001b[0m\n",
      "\u001b[0;32m/usr/local/lib/python3.6/dist-packages/tensorflow/python/eager/function.py\u001b[0m in \u001b[0;36m_call_impl\u001b[0;34m(self, args, kwargs, cancellation_manager)\u001b[0m\n\u001b[1;32m   1671\u001b[0m             \u001b[0;32mraise\u001b[0m \u001b[0mstructured_err\u001b[0m\u001b[0;34m\u001b[0m\u001b[0;34m\u001b[0m\u001b[0m\n\u001b[1;32m   1672\u001b[0m \u001b[0;34m\u001b[0m\u001b[0m\n\u001b[0;32m-> 1673\u001b[0;31m       \u001b[0;32mreturn\u001b[0m \u001b[0mself\u001b[0m\u001b[0;34m.\u001b[0m\u001b[0m_call_with_flat_signature\u001b[0m\u001b[0;34m(\u001b[0m\u001b[0margs\u001b[0m\u001b[0;34m,\u001b[0m \u001b[0mkwargs\u001b[0m\u001b[0;34m,\u001b[0m \u001b[0mcancellation_manager\u001b[0m\u001b[0;34m)\u001b[0m\u001b[0;34m\u001b[0m\u001b[0;34m\u001b[0m\u001b[0m\n\u001b[0m\u001b[1;32m   1674\u001b[0m \u001b[0;34m\u001b[0m\u001b[0m\n\u001b[1;32m   1675\u001b[0m   \u001b[0;32mdef\u001b[0m \u001b[0m_call_with_flat_signature\u001b[0m\u001b[0;34m(\u001b[0m\u001b[0mself\u001b[0m\u001b[0;34m,\u001b[0m \u001b[0margs\u001b[0m\u001b[0;34m,\u001b[0m \u001b[0mkwargs\u001b[0m\u001b[0;34m,\u001b[0m \u001b[0mcancellation_manager\u001b[0m\u001b[0;34m)\u001b[0m\u001b[0;34m:\u001b[0m\u001b[0;34m\u001b[0m\u001b[0;34m\u001b[0m\u001b[0m\n",
      "\u001b[0;32m/usr/local/lib/python3.6/dist-packages/tensorflow/python/eager/function.py\u001b[0m in \u001b[0;36m_call_with_flat_signature\u001b[0;34m(self, args, kwargs, cancellation_manager)\u001b[0m\n\u001b[1;32m   1720\u001b[0m                         \"got {} ({})\".format(self._flat_signature_summary(), i,\n\u001b[1;32m   1721\u001b[0m                                              type(arg).__name__, str(arg)))\n\u001b[0;32m-> 1722\u001b[0;31m     \u001b[0;32mreturn\u001b[0m \u001b[0mself\u001b[0m\u001b[0;34m.\u001b[0m\u001b[0m_call_flat\u001b[0m\u001b[0;34m(\u001b[0m\u001b[0margs\u001b[0m\u001b[0;34m,\u001b[0m \u001b[0mself\u001b[0m\u001b[0;34m.\u001b[0m\u001b[0mcaptured_inputs\u001b[0m\u001b[0;34m,\u001b[0m \u001b[0mcancellation_manager\u001b[0m\u001b[0;34m)\u001b[0m\u001b[0;34m\u001b[0m\u001b[0;34m\u001b[0m\u001b[0m\n\u001b[0m\u001b[1;32m   1723\u001b[0m \u001b[0;34m\u001b[0m\u001b[0m\n\u001b[1;32m   1724\u001b[0m   \u001b[0;32mdef\u001b[0m \u001b[0m_call_with_structured_signature\u001b[0m\u001b[0;34m(\u001b[0m\u001b[0mself\u001b[0m\u001b[0;34m,\u001b[0m \u001b[0margs\u001b[0m\u001b[0;34m,\u001b[0m \u001b[0mkwargs\u001b[0m\u001b[0;34m,\u001b[0m \u001b[0mcancellation_manager\u001b[0m\u001b[0;34m)\u001b[0m\u001b[0;34m:\u001b[0m\u001b[0;34m\u001b[0m\u001b[0;34m\u001b[0m\u001b[0m\n",
      "\u001b[0;32m/usr/local/lib/python3.6/dist-packages/tensorflow/python/eager/function.py\u001b[0m in \u001b[0;36m_call_flat\u001b[0;34m(self, args, captured_inputs, cancellation_manager)\u001b[0m\n\u001b[1;32m   1922\u001b[0m       \u001b[0;31m# No tape is watching; skip to running the function.\u001b[0m\u001b[0;34m\u001b[0m\u001b[0;34m\u001b[0m\u001b[0;34m\u001b[0m\u001b[0m\n\u001b[1;32m   1923\u001b[0m       return self._build_call_outputs(self._inference_function.call(\n\u001b[0;32m-> 1924\u001b[0;31m           ctx, args, cancellation_manager=cancellation_manager))\n\u001b[0m\u001b[1;32m   1925\u001b[0m     forward_backward = self._select_forward_and_backward_functions(\n\u001b[1;32m   1926\u001b[0m         \u001b[0margs\u001b[0m\u001b[0;34m,\u001b[0m\u001b[0;34m\u001b[0m\u001b[0;34m\u001b[0m\u001b[0m\n",
      "\u001b[0;32m/usr/local/lib/python3.6/dist-packages/tensorflow/python/eager/function.py\u001b[0m in \u001b[0;36mcall\u001b[0;34m(self, ctx, args, cancellation_manager)\u001b[0m\n\u001b[1;32m    548\u001b[0m               \u001b[0minputs\u001b[0m\u001b[0;34m=\u001b[0m\u001b[0margs\u001b[0m\u001b[0;34m,\u001b[0m\u001b[0;34m\u001b[0m\u001b[0;34m\u001b[0m\u001b[0m\n\u001b[1;32m    549\u001b[0m               \u001b[0mattrs\u001b[0m\u001b[0;34m=\u001b[0m\u001b[0mattrs\u001b[0m\u001b[0;34m,\u001b[0m\u001b[0;34m\u001b[0m\u001b[0;34m\u001b[0m\u001b[0m\n\u001b[0;32m--> 550\u001b[0;31m               ctx=ctx)\n\u001b[0m\u001b[1;32m    551\u001b[0m         \u001b[0;32melse\u001b[0m\u001b[0;34m:\u001b[0m\u001b[0;34m\u001b[0m\u001b[0;34m\u001b[0m\u001b[0m\n\u001b[1;32m    552\u001b[0m           outputs = execute.execute_with_cancellation(\n",
      "\u001b[0;32m/usr/local/lib/python3.6/dist-packages/tensorflow/python/eager/execute.py\u001b[0m in \u001b[0;36mquick_execute\u001b[0;34m(op_name, num_outputs, inputs, attrs, ctx, name)\u001b[0m\n\u001b[1;32m     58\u001b[0m     \u001b[0mctx\u001b[0m\u001b[0;34m.\u001b[0m\u001b[0mensure_initialized\u001b[0m\u001b[0;34m(\u001b[0m\u001b[0;34m)\u001b[0m\u001b[0;34m\u001b[0m\u001b[0;34m\u001b[0m\u001b[0m\n\u001b[1;32m     59\u001b[0m     tensors = pywrap_tfe.TFE_Py_Execute(ctx._handle, device_name, op_name,\n\u001b[0;32m---> 60\u001b[0;31m                                         inputs, attrs, num_outputs)\n\u001b[0m\u001b[1;32m     61\u001b[0m   \u001b[0;32mexcept\u001b[0m \u001b[0mcore\u001b[0m\u001b[0;34m.\u001b[0m\u001b[0m_NotOkStatusException\u001b[0m \u001b[0;32mas\u001b[0m \u001b[0me\u001b[0m\u001b[0;34m:\u001b[0m\u001b[0;34m\u001b[0m\u001b[0;34m\u001b[0m\u001b[0m\n\u001b[1;32m     62\u001b[0m     \u001b[0;32mif\u001b[0m \u001b[0mname\u001b[0m \u001b[0;32mis\u001b[0m \u001b[0;32mnot\u001b[0m \u001b[0;32mNone\u001b[0m\u001b[0;34m:\u001b[0m\u001b[0;34m\u001b[0m\u001b[0;34m\u001b[0m\u001b[0m\n",
      "\u001b[0;31mKeyboardInterrupt\u001b[0m: "
     ]
    },
    {
     "name": "stderr",
     "output_type": "stream",
     "text": [
      "ERROR:tornado.general:Uncaught exception in ZMQStream callback\n",
      "Traceback (most recent call last):\n",
      "  File \"/usr/local/lib/python3.6/dist-packages/zmq/eventloop/zmqstream.py\", line 444, in _run_callback\n",
      "    callback(*args, **kwargs)\n",
      "  File \"/usr/local/lib/python3.6/dist-packages/tornado/stack_context.py\", line 300, in null_wrapper\n",
      "    return fn(*args, **kwargs)\n",
      "  File \"/usr/local/lib/python3.6/dist-packages/ipykernel/kernelbase.py\", line 283, in dispatcher\n",
      "    return self.dispatch_shell(stream, msg)\n",
      "  File \"/usr/local/lib/python3.6/dist-packages/ipykernel/kernelbase.py\", line 233, in dispatch_shell\n",
      "    handler(stream, idents, msg)\n",
      "  File \"/usr/local/lib/python3.6/dist-packages/ipykernel/kernelbase.py\", line 421, in execute_request\n",
      "    self._abort_queues()\n",
      "  File \"/usr/local/lib/python3.6/dist-packages/ipykernel/kernelbase.py\", line 636, in _abort_queues\n",
      "    self._abort_queue(stream)\n",
      "  File \"/usr/local/lib/python3.6/dist-packages/ipykernel/kernelbase.py\", line 642, in _abort_queue\n",
      "    idents,msg = self.session.recv(stream, zmq.NOBLOCK, content=True)\n",
      "  File \"/usr/local/lib/python3.6/dist-packages/jupyter_client/session.py\", line 815, in recv\n",
      "    return idents, self.deserialize(msg_list, content=content, copy=copy)\n",
      "  File \"/usr/local/lib/python3.6/dist-packages/jupyter_client/session.py\", line 930, in deserialize\n",
      "    message['parent_header'] = extract_dates(self.unpack(msg_list[2]))\n",
      "  File \"/usr/local/lib/python3.6/dist-packages/jupyter_client/session.py\", line 105, in <lambda>\n",
      "    json_unpacker = lambda s: jsonapi.loads(s)\n",
      "  File \"/usr/local/lib/python3.6/dist-packages/zmq/utils/jsonapi.py\", line 56, in loads\n",
      "    return jsonmod.loads(s, **kwargs)\n",
      "  File \"/usr/lib/python3.6/json/__init__.py\", line 354, in loads\n",
      "    return _default_decoder.decode(s)\n",
      "  File \"/usr/lib/python3.6/json/decoder.py\", line 339, in decode\n",
      "    obj, end = self.raw_decode(s, idx=_w(s, 0).end())\n",
      "KeyboardInterrupt\n"
     ]
    }
   ],
   "source": [
    "import cv2\n",
    "from google.colab.patches import cv2_imshow\n",
    "from PIL import Image\n",
    "\n",
    "train_ims = []\n",
    "train_labels = []\n",
    "test_ims = []\n",
    "test_labels = []\n",
    "train_num = 0\n",
    "test_num = 0\n",
    "i = 0\n",
    "\n",
    "while train_num < 20:\n",
    "  downloaded_image_path = download_and_resize_image(one_person.iloc[i].file_path, False)\n",
    "  cropped = run_detector(detector, downloaded_image_path)\n",
    "\n",
    "  # ratio check - skip the picture\n",
    "  r = cropped.shape[0] / cropped.shape[1]\n",
    "  if r > 2 or r < 0.5:\n",
    "    i += 1\n",
    "    continue\n",
    "\n",
    "  im = cv2.resize(cropped, (256, 256))\n",
    "  train_ims.append(im)\n",
    "  train_labels.append(one_person.iloc[i].primary_posture_n)\n",
    "\n",
    "  train_num += 1\n",
    "  i += 1\n",
    "\n",
    "while test_num < 0:\n",
    "  downloaded_image_path = download_and_resize_image(one_person.iloc[i].file_path, False)\n",
    "  cropped = run_detector(detector, downloaded_image_path)\n",
    "\n",
    "  # ratio check - skip the picture\n",
    "  r = cropped.shape[0] / cropped.shape[1]\n",
    "  if r > 2 or r < 0.5:\n",
    "    i += 1\n",
    "    continue\n",
    "\n",
    "  im = cv2.resize(cropped, (256, 256))\n",
    "  test_ims.append(im)\n",
    "  test_labels.append(one_person.iloc[i].primary_posture_n)\n",
    "\n",
    "  test_num += 1\n",
    "  i += 1"
   ]
  },
  {
   "cell_type": "code",
   "execution_count": null,
   "metadata": {
    "colab": {
     "base_uri": "https://localhost:8080/",
     "height": 215
    },
    "id": "Bw888EDrDFm6",
    "outputId": "379db7d2-8afb-4846-afdf-a754a3d4278a"
   },
   "outputs": [
    {
     "ename": "NameError",
     "evalue": "ignored",
     "output_type": "error",
     "traceback": [
      "\u001b[0;31m---------------------------------------------------------------------------\u001b[0m",
      "\u001b[0;31mNameError\u001b[0m                                 Traceback (most recent call last)",
      "\u001b[0;32m<ipython-input-1-7a6873a32602>\u001b[0m in \u001b[0;36m<module>\u001b[0;34m()\u001b[0m\n\u001b[0;32m----> 1\u001b[0;31m \u001b[0mtrain_ims\u001b[0m \u001b[0;34m=\u001b[0m \u001b[0mnp\u001b[0m\u001b[0;34m.\u001b[0m\u001b[0marray\u001b[0m\u001b[0;34m(\u001b[0m \u001b[0mtrain_ims\u001b[0m \u001b[0;34m)\u001b[0m \u001b[0;34m/\u001b[0m \u001b[0;36m255\u001b[0m\u001b[0;34m\u001b[0m\u001b[0;34m\u001b[0m\u001b[0m\n\u001b[0m\u001b[1;32m      2\u001b[0m \u001b[0mtrain_labels\u001b[0m \u001b[0;34m=\u001b[0m \u001b[0mnp\u001b[0m\u001b[0;34m.\u001b[0m\u001b[0marray\u001b[0m\u001b[0;34m(\u001b[0m \u001b[0mtrain_labels\u001b[0m \u001b[0;34m)\u001b[0m\u001b[0;34m\u001b[0m\u001b[0;34m\u001b[0m\u001b[0m\n\u001b[1;32m      3\u001b[0m \u001b[0mtest_ims\u001b[0m \u001b[0;34m=\u001b[0m \u001b[0mnp\u001b[0m\u001b[0;34m.\u001b[0m\u001b[0marray\u001b[0m\u001b[0;34m(\u001b[0m \u001b[0mtest_ims\u001b[0m \u001b[0;34m)\u001b[0m \u001b[0;34m/\u001b[0m \u001b[0;36m255\u001b[0m\u001b[0;34m\u001b[0m\u001b[0;34m\u001b[0m\u001b[0m\n\u001b[1;32m      4\u001b[0m \u001b[0mtest_labels\u001b[0m \u001b[0;34m=\u001b[0m \u001b[0mnp\u001b[0m\u001b[0;34m.\u001b[0m\u001b[0marray\u001b[0m\u001b[0;34m(\u001b[0m \u001b[0mtest_labels\u001b[0m \u001b[0;34m)\u001b[0m\u001b[0;34m\u001b[0m\u001b[0;34m\u001b[0m\u001b[0m\n",
      "\u001b[0;31mNameError\u001b[0m: name 'np' is not defined"
     ]
    }
   ],
   "source": [
    "train_ims = np.array( train_ims ) / 255\n",
    "train_labels = np.array( train_labels )\n",
    "test_ims = np.array( test_ims ) / 255\n",
    "test_labels = np.array( test_labels )"
   ]
  },
  {
   "cell_type": "code",
   "execution_count": null,
   "metadata": {
    "colab": {
     "base_uri": "https://localhost:8080/",
     "height": 34
    },
    "id": "Tv7dg86mJ_Jk",
    "outputId": "cf6e5152-9945-4607-cb8a-b4c1c77636d6"
   },
   "outputs": [
    {
     "data": {
      "text/plain": [
       "(1500, 256, 256, 3)"
      ]
     },
     "execution_count": 103,
     "metadata": {
      "tags": []
     },
     "output_type": "execute_result"
    }
   ],
   "source": [
    "train_ims.shape"
   ]
  },
  {
   "cell_type": "code",
   "execution_count": null,
   "metadata": {
    "id": "9uUs5kwnJWFA"
   },
   "outputs": [],
   "source": [
    "train_labels = tf.keras.utils.to_categorical( train_labels , num_classes=3 )\n",
    "test_labels = tf.keras.utils.to_categorical( test_labels , num_classes=3 )"
   ]
  },
  {
   "cell_type": "code",
   "execution_count": null,
   "metadata": {
    "id": "nhiKAdC42pqN"
   },
   "outputs": [],
   "source": [
    "from keras.applications import MobileNetV2\n",
    "from keras import layers, optimizers"
   ]
  },
  {
   "cell_type": "code",
   "execution_count": null,
   "metadata": {
    "colab": {
     "base_uri": "https://localhost:8080/",
     "height": 51
    },
    "id": "vkqSIT4x2PFE",
    "outputId": "13666845-3f55-4611-9b0c-3536bc500188"
   },
   "outputs": [
    {
     "name": "stdout",
     "output_type": "stream",
     "text": [
      "WARNING:tensorflow:`input_shape` is undefined or non-square, or `rows` is not in [96, 128, 160, 192, 224]. Weights for input shape (224, 224) will be loaded as the default.\n"
     ]
    },
    {
     "name": "stderr",
     "output_type": "stream",
     "text": [
      "WARNING:tensorflow:`input_shape` is undefined or non-square, or `rows` is not in [96, 128, 160, 192, 224]. Weights for input shape (224, 224) will be loaded as the default.\n"
     ]
    }
   ],
   "source": [
    "base_model = MobileNetV2(weights='imagenet',include_top=False, input_shape=(256, 256, 3)) \n",
    "x = base_model.output\n",
    "x = layers.GlobalAveragePooling2D()(x)\n",
    "x = layers.Dense(1024,activation='relu')(x) \n",
    "x = layers.Dense(1024,activation='relu')(x) \n",
    "x = layers.Dense(512,activation='relu')(x) \n",
    "preds = layers.Dense(3, activation='softmax')(x) \n",
    "\n",
    "model = models.Model(inputs=base_model.input,outputs=preds) "
   ]
  },
  {
   "cell_type": "code",
   "execution_count": null,
   "metadata": {
    "id": "trndMtwT2V0y"
   },
   "outputs": [],
   "source": [
    "for layer in model.layers[:20]:\n",
    "    layer.trainable=False\n",
    "for layer in model.layers[20:]:\n",
    "    layer.trainable=True"
   ]
  },
  {
   "cell_type": "code",
   "execution_count": null,
   "metadata": {
    "id": "BMe2bQYC2XNr"
   },
   "outputs": [],
   "source": [
    "model.compile(optimizer='Adam',loss='categorical_crossentropy',metrics=['accuracy'])"
   ]
  },
  {
   "cell_type": "code",
   "execution_count": null,
   "metadata": {
    "colab": {
     "base_uri": "https://localhost:8080/",
     "height": 374
    },
    "id": "XL62UQpt2fNP",
    "outputId": "352c6bd0-1d73-4a49-ef45-a41eaf658a3d"
   },
   "outputs": [
    {
     "name": "stdout",
     "output_type": "stream",
     "text": [
      "Epoch 1/10\n",
      "150/150 [==============================] - 284s 2s/step - loss: 0.9502 - accuracy: 0.5480\n",
      "Epoch 2/10\n",
      "150/150 [==============================] - 286s 2s/step - loss: 0.8697 - accuracy: 0.5887\n",
      "Epoch 3/10\n",
      "150/150 [==============================] - 287s 2s/step - loss: 0.8034 - accuracy: 0.6087\n",
      "Epoch 4/10\n",
      "150/150 [==============================] - 286s 2s/step - loss: 0.7960 - accuracy: 0.6327\n",
      "Epoch 5/10\n",
      "150/150 [==============================] - 286s 2s/step - loss: 0.7012 - accuracy: 0.6707\n",
      "Epoch 6/10\n",
      "150/150 [==============================] - 283s 2s/step - loss: 0.6953 - accuracy: 0.6960\n",
      "Epoch 7/10\n",
      "150/150 [==============================] - 286s 2s/step - loss: 0.6341 - accuracy: 0.7413\n",
      "Epoch 8/10\n",
      "150/150 [==============================] - 288s 2s/step - loss: 0.5535 - accuracy: 0.7720\n",
      "Epoch 9/10\n",
      "150/150 [==============================] - 290s 2s/step - loss: 0.4942 - accuracy: 0.8127\n",
      "Epoch 10/10\n",
      "150/150 [==============================] - 289s 2s/step - loss: 0.4453 - accuracy: 0.8287\n"
     ]
    },
    {
     "data": {
      "text/plain": [
       "<tensorflow.python.keras.callbacks.History at 0x7f232059da58>"
      ]
     },
     "execution_count": 117,
     "metadata": {
      "tags": []
     },
     "output_type": "execute_result"
    }
   ],
   "source": [
    "model.fit(\n",
    "    train_ims, train_labels,\n",
    "    epochs=10,\n",
    "    batch_size=10,\n",
    "    callbacks=None,\n",
    ")"
   ]
  },
  {
   "cell_type": "code",
   "execution_count": null,
   "metadata": {
    "colab": {
     "base_uri": "https://localhost:8080/",
     "height": 51
    },
    "id": "cbvx6j4_5PPI",
    "outputId": "98e3c032-411e-4720-9b12-f79293fb7851"
   },
   "outputs": [
    {
     "name": "stdout",
     "output_type": "stream",
     "text": [
      "16/16 [==============================] - 21s 1s/step - loss: 0.9015 - accuracy: 0.6160\n"
     ]
    },
    {
     "data": {
      "text/plain": [
       "[0.9015434384346008, 0.6159999966621399]"
      ]
     },
     "execution_count": 119,
     "metadata": {
      "tags": []
     },
     "output_type": "execute_result"
    }
   ],
   "source": [
    "model.evaluate(test_ims, test_labels)"
   ]
  },
  {
   "cell_type": "markdown",
   "metadata": {
    "id": "gOaaevNIVaEK"
   },
   "source": [
    "- what size to resize to\n",
    "- training over all 3 tranches\n",
    "- min/max pixel size\n",
    "- preprocessed/untouched test sets\n",
    "- model architecture "
   ]
  },
  {
   "cell_type": "code",
   "execution_count": null,
   "metadata": {
    "id": "6vKqo4wDVfry"
   },
   "outputs": [],
   "source": []
  }
 ],
 "metadata": {
  "colab": {
   "collapsed_sections": [],
   "include_colab_link": true,
   "name": "MobileNetV2_10_06 (Version 2) + OD",
   "provenance": []
  },
  "kernelspec": {
   "display_name": "Python 3",
   "language": "python",
   "name": "python3"
  },
  "language_info": {
   "codemirror_mode": {
    "name": "ipython",
    "version": 3
   },
   "file_extension": ".py",
   "mimetype": "text/x-python",
   "name": "python",
   "nbconvert_exporter": "python",
   "pygments_lexer": "ipython3",
   "version": "3.7.6"
  }
 },
 "nbformat": 4,
 "nbformat_minor": 4
}
